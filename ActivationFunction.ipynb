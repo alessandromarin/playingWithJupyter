{
 "cells": [
  {
   "cell_type": "code",
   "execution_count": 1,
   "metadata": {
    "collapsed": false
   },
   "outputs": [],
   "source": [
    "#Let's play a bit with different activation functions\n",
    "\n",
    "import numpy as np\n",
    "import matplotlib.pyplot as plt\n",
    "import math\n",
    "\n",
    "def sigmoid(x):\n",
    "  return 1 / (1 + math.exp(-x))\n",
    "\n",
    "\n"
   ]
  },
  {
   "cell_type": "code",
   "execution_count": 2,
   "metadata": {
    "collapsed": false
   },
   "outputs": [],
   "source": [
    "#Set Parameter\n",
    "step=0.01\n",
    "x_max=20\n",
    "x_min=-x_max"
   ]
  },
  {
   "cell_type": "code",
   "execution_count": 3,
   "metadata": {
    "collapsed": false,
    "scrolled": true
   },
   "outputs": [],
   "source": [
    "\n",
    "numberOfPoints=1+2*x_max/step\n",
    "\n",
    "X = np.linspace(x_min, x_max, numberOfPoints, endpoint=True)\n",
    "\n",
    "SIG = [sigmoid(x) for x in X] \n",
    "devSIG=np.gradient(SIG,step)\n",
    "AtanNomr=(np.pi/2+np.arctan(X))/np.pi\n",
    "devAtanNomr=np.gradient(AtanNomr,step)\n",
    "\n"
   ]
  },
  {
   "cell_type": "code",
   "execution_count": 4,
   "metadata": {
    "collapsed": false
   },
   "outputs": [],
   "source": [
    "\n",
    "\n",
    "#Consitency bourdary check\n",
    "#print (SIG[round(x_max/step+1)])\n",
    "#print (devSIG[round(x_max/step+1)])\n",
    "\n"
   ]
  },
  {
   "cell_type": "code",
   "execution_count": 5,
   "metadata": {
    "collapsed": false
   },
   "outputs": [],
   "source": [
    "#plotting\n",
    "plt.plot(X,SIG)\n",
    "plt.plot(X,devSIG)\n",
    "plt.plot(X,AtanNomr)\n",
    "plt.plot(X,devAtanNomr)\n",
    "\n",
    "plt.show()\n"
   ]
  },
  {
   "cell_type": "code",
   "execution_count": null,
   "metadata": {
    "collapsed": true
   },
   "outputs": [],
   "source": []
  }
 ],
 "metadata": {
  "kernelspec": {
   "display_name": "Python 3",
   "language": "python",
   "name": "python3"
  },
  "language_info": {
   "codemirror_mode": {
    "name": "ipython",
    "version": 3
   },
   "file_extension": ".py",
   "mimetype": "text/x-python",
   "name": "python",
   "nbconvert_exporter": "python",
   "pygments_lexer": "ipython3",
   "version": "3.5.1"
  }
 },
 "nbformat": 4,
 "nbformat_minor": 2
}
